{
 "cells": [
  {
   "cell_type": "code",
   "execution_count": 165,
   "id": "6dff460f",
   "metadata": {},
   "outputs": [
    {
     "name": "stdout",
     "output_type": "stream",
     "text": [
      "Overwriting plag_finder.py\n"
     ]
    }
   ],
   "source": [
    "%%writefile plag_finder.py\n",
    "\n",
    "from ipykernel.kernelbase import Kernel\n",
    "import os\n",
    "from io import BytesIO\n",
    "import urllib, base64"
   ]
  },
  {
   "cell_type": "code",
   "execution_count": null,
   "id": "c5fbf6d5",
   "metadata": {},
   "outputs": [],
   "source": []
  },
  {
   "cell_type": "code",
   "execution_count": 166,
   "id": "f40e8883",
   "metadata": {},
   "outputs": [
    {
     "name": "stdout",
     "output_type": "stream",
     "text": [
      "Appending to plag_finder.py\n"
     ]
    }
   ],
   "source": [
    "%%writefile plag_finder.py -a\n",
    "import math\n",
    "import string\n",
    "import sys\n",
    "\n",
    "# reading the text file\n",
    "# This functio will return a\n",
    "# list of the lines of text\n",
    "# in the file.\n",
    "def read_file(filename):\n",
    "\n",
    "    try:\n",
    "        with open(filename, 'r') as f:\n",
    "            data = f.read()\n",
    "        return data\n",
    "\n",
    "    except IOError:\n",
    "        print(\"Error opening or reading input file: \", filename)\n",
    "        sys.exit()\n",
    "\n",
    "# splitting the text lines into words\n",
    "# translation table is a global variable\n",
    "# mapping upper case to lower case and\n",
    "# punctuation to spaces\n",
    "translation_table = str.maketrans(string.punctuation+string.ascii_uppercase,\n",
    "                                    \" \"*len(string.punctuation)+string.ascii_lowercase)\n",
    "\n",
    "# returns a list of the words\n",
    "# in the file\n",
    "def get_words_from_line_list(text):\n",
    "\n",
    "    text = text.translate(translation_table)\n",
    "    word_list = text.split()\n",
    "\n",
    "    return word_list\n",
    "\n",
    "\n",
    "# counts frequency of each word\n",
    "# returns a dictionary which maps\n",
    "# the words to their frequency.\n",
    "def count_frequency(word_list):\n",
    "\n",
    "    D = {}\n",
    "\n",
    "    for new_word in word_list:\n",
    "\n",
    "        if new_word in D:\n",
    "            D[new_word] = D[new_word] + 1\n",
    "\n",
    "        else:\n",
    "            D[new_word] = 1\n",
    "\n",
    "    return D\n",
    "\n",
    "# returns dictionary of (word, frequency)\n",
    "# pairs from the previous dictionary.\n",
    "def word_frequencies_for_file(filename):\n",
    "\n",
    "    line_list = read_file(filename)\n",
    "    word_list = get_words_from_line_list(line_list)\n",
    "    freq_mapping=0\n",
    "    freq_mapping = count_frequency(word_list)\n",
    "\n",
    "    return freq_mapping\n",
    "\n",
    "\n",
    "# returns the dot product of two documents\n",
    "def dotProduct(D1, D2):\n",
    "    Sum = 0.0\n",
    "\n",
    "    for key in D1:\n",
    "\n",
    "        if key in D2:\n",
    "            Sum += (D1[key] * D2[key])\n",
    "\n",
    "    return Sum\n",
    "\n",
    "# returns the angle in radians\n",
    "# between document vectors\n",
    "def vector_angle(D1, D2):\n",
    "    numerator = dotProduct(D1, D2)\n",
    "    denominator = math.sqrt(dotProduct(D1, D1)*dotProduct(D2, D2))\n",
    "\n",
    "    return math.acos(numerator / denominator)\n",
    "\n",
    "\n",
    "def documentSimilarity(filename_1, filename_2):\n",
    "\n",
    "    # filename_1 = sys.argv[1]\n",
    "    # filename_2 = sys.argv[2]\n",
    "    sorted_word_list_1 = word_frequencies_for_file(filename_1)\n",
    "    sorted_word_list_2 = word_frequencies_for_file(filename_2)\n",
    "    distance=0\n",
    "    distance = vector_angle(sorted_word_list_1, sorted_word_list_2)\n",
    "    return distance\n",
    "\n",
    "\n",
    "\n"
   ]
  },
  {
   "cell_type": "code",
   "execution_count": 167,
   "id": "d1392a5c",
   "metadata": {},
   "outputs": [
    {
     "name": "stdout",
     "output_type": "stream",
     "text": [
      "Appending to plag_finder.py\n"
     ]
    }
   ],
   "source": [
    "%%writefile plag_finder.py -a\n",
    "\n",
    "class plag_finder(Kernel):\n",
    "    implementation = 'Plot'\n",
    "    implementation_version = '1.0'\n",
    "    language = 'python'  # will be used for\n",
    "                         # syntax highlighting\n",
    "    language_version = '3.6'\n",
    "    language_info = {'name': 'plotter',\n",
    "                     'mimetype': 'text/plain',\n",
    "                     'extension': '.py'}\n",
    "    banner = \"Simple plotting\""
   ]
  },
  {
   "cell_type": "code",
   "execution_count": 168,
   "id": "6b6f5fdf",
   "metadata": {},
   "outputs": [
    {
     "name": "stdout",
     "output_type": "stream",
     "text": [
      "Appending to plag_finder.py\n"
     ]
    }
   ],
   "source": [
    "%%writefile plag_finder.py -a\n",
    "\n",
    "    def do_execute(self, code, silent,\n",
    "                   store_history=True,\n",
    "                   user_expressions=None,\n",
    "                   allow_stdin=False):\n",
    "\n",
    "        \n",
    "        \n",
    "        path =code.split('\\n')[0]\n",
    "        files = os.listdir(path)\n",
    "        result=\"\"\n",
    "        n_files=len(files)\n",
    "        for i in range(1,n_files-1):\n",
    "            for j in range(i+1,n_files):\n",
    "                file_1=path+\"/\"+files[i]\n",
    "                file_2=path+\"/\"+files[j]\n",
    "                ans=documentSimilarity(file_1,file_2)\n",
    "                deg = math.degrees(ans);\n",
    "                perc=100-((deg*100)/90);\n",
    "                result+=\"Plagarism between file :-\" + file_1 +\" and file :-\" + file_2 +\" is = \" + str(perc) +\"%\\n\"\n",
    "                \n",
    "\n",
    "        if not silent:\n",
    "            # We send the standard output to the\n",
    "            # client.\n",
    "            self.send_response(\n",
    "                self.iopub_socket,\n",
    "                'stream', {\n",
    "                    'name': 'stdout',\n",
    "                    'data': ('Plotting {n} ')})\n",
    "\n",
    "            # We prepare the response with our rich\n",
    "            # data (the plot).\n",
    "            content = {\n",
    "                'source': 'kernel',\n",
    "\n",
    "                # This dictionary may contain\n",
    "                # different MIME representations of\n",
    "                # the output.\n",
    "                'data': {\n",
    "                        'text/plain' : result\n",
    "                },\n",
    "\n",
    "                \n",
    "            }\n",
    "\n",
    "            # We send the display_data message with\n",
    "            # the contents.\n",
    "            self.send_response(self.iopub_socket,\n",
    "                'display_data', content)\n",
    "\n",
    "        # We return the exection results.\n",
    "        return {'status': 'ok',\n",
    "                'execution_count':\n",
    "                    self.execution_count,\n",
    "                'payload': [],\n",
    "                'user_expressions': {},\n",
    "               }"
   ]
  },
  {
   "cell_type": "code",
   "execution_count": 169,
   "id": "6b8d6fbb",
   "metadata": {},
   "outputs": [
    {
     "name": "stdout",
     "output_type": "stream",
     "text": [
      "Appending to plag_finder.py\n"
     ]
    }
   ],
   "source": [
    "%%writefile plag_finder.py -a\n",
    "\n",
    "if __name__ == '__main__':\n",
    "    from ipykernel.kernelapp import IPKernelApp\n",
    "    IPKernelApp.launch_instance(\n",
    "        kernel_class=plag_finder)"
   ]
  },
  {
   "cell_type": "code",
   "execution_count": 170,
   "id": "64c0736c",
   "metadata": {},
   "outputs": [],
   "source": [
    "%mkdir -p plag_files/"
   ]
  },
  {
   "cell_type": "code",
   "execution_count": 171,
   "id": "a1f71f18",
   "metadata": {},
   "outputs": [
    {
     "name": "stdout",
     "output_type": "stream",
     "text": [
      "Overwriting plag_files/kernel.json\n"
     ]
    }
   ],
   "source": [
    "\n",
    "%%writefile plag_files/kernel.json\n",
    "{\n",
    " \"argv\": [\"python\", \"-m\",\n",
    "          \"plag_finder\", \"-f\",\n",
    "          \"{connection_file}\"],\n",
    " \"display_name\": \"plag_finder\",\n",
    " \"name\": \"plag_finder\",\n",
    " \"language\": \"python\"\n",
    "}"
   ]
  },
  {
   "cell_type": "code",
   "execution_count": 172,
   "id": "a7d32b60",
   "metadata": {},
   "outputs": [
    {
     "name": "stdout",
     "output_type": "stream",
     "text": [
      "[InstallKernelSpec] Removing existing kernelspec in /Users/anshulkulhari/Library/Jupyter/kernels/plag_files\r\n",
      "[InstallKernelSpec] Installed kernelspec plag_files in /Users/anshulkulhari/Library/Jupyter/kernels/plag_files\r\n"
     ]
    }
   ],
   "source": [
    "!jupyter kernelspec install --user plag_files"
   ]
  },
  {
   "cell_type": "code",
   "execution_count": 173,
   "id": "af2b14ac",
   "metadata": {},
   "outputs": [
    {
     "name": "stdout",
     "output_type": "stream",
     "text": [
      "Available kernels:\r\n",
      "  python3          /usr/local/Cellar/jupyterlab/3.0.14/libexec/lib/python3.9/site-packages/ipykernel/resources\r\n",
      "  client_kernel    /Users/anshulkulhari/Library/Jupyter/kernels/client_kernel\r\n",
      "  githubkernel     /Users/anshulkulhari/Library/Jupyter/kernels/githubkernel\r\n",
      "  grammar          /Users/anshulkulhari/Library/Jupyter/kernels/grammar\r\n",
      "  plag_files       /Users/anshulkulhari/Library/Jupyter/kernels/plag_files\r\n",
      "  plotter          /Users/anshulkulhari/Library/Jupyter/kernels/plotter\r\n",
      "  server_kernel    /Users/anshulkulhari/Library/Jupyter/kernels/server_kernel\r\n"
     ]
    }
   ],
   "source": [
    "!jupyter kernelspec list"
   ]
  },
  {
   "cell_type": "code",
   "execution_count": null,
   "id": "1ef6dd29",
   "metadata": {},
   "outputs": [],
   "source": []
  },
  {
   "cell_type": "code",
   "execution_count": null,
   "id": "6d3a19e9",
   "metadata": {},
   "outputs": [],
   "source": []
  },
  {
   "cell_type": "code",
   "execution_count": null,
   "id": "30dd5094",
   "metadata": {},
   "outputs": [],
   "source": []
  },
  {
   "cell_type": "code",
   "execution_count": null,
   "id": "e8f5530b",
   "metadata": {},
   "outputs": [],
   "source": []
  },
  {
   "cell_type": "code",
   "execution_count": null,
   "id": "9fdbc417",
   "metadata": {},
   "outputs": [],
   "source": []
  },
  {
   "cell_type": "code",
   "execution_count": null,
   "id": "f4ad958b",
   "metadata": {},
   "outputs": [],
   "source": []
  }
 ],
 "metadata": {
  "kernelspec": {
   "display_name": "Python 3",
   "language": "python",
   "name": "python3"
  },
  "language_info": {
   "codemirror_mode": {
    "name": "ipython",
    "version": 3
   },
   "file_extension": ".py",
   "mimetype": "text/x-python",
   "name": "python",
   "nbconvert_exporter": "python",
   "pygments_lexer": "ipython3",
   "version": "3.9.5"
  }
 },
 "nbformat": 4,
 "nbformat_minor": 5
}
