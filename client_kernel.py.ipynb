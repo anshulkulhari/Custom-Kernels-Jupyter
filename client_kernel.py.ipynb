{
 "cells": [
  {
   "cell_type": "code",
   "execution_count": 1,
   "id": "9de108af",
   "metadata": {},
   "outputs": [
    {
     "name": "stdout",
     "output_type": "stream",
     "text": [
      "Overwriting client_kernel.py\n"
     ]
    }
   ],
   "source": [
    "%%writefile client_kernel.py\n",
    "\n",
    "from ipykernel.kernelbase import Kernel\n",
    "import numpy as np\n",
    "import os\n",
    "import matplotlib.pyplot as plt\n",
    "from io import BytesIO\n",
    "import urllib, base64\n",
    "import socket"
   ]
  },
  {
   "cell_type": "code",
   "execution_count": 2,
   "id": "36489759",
   "metadata": {},
   "outputs": [
    {
     "name": "stdout",
     "output_type": "stream",
     "text": [
      "Appending to client_kernel.py\n"
     ]
    }
   ],
   "source": [
    "%%writefile client_kernel.py -a\n",
    "\n",
    "class client_kernel(Kernel):\n",
    "    implementation = 'client'\n",
    "    implementation_version = '1.0'\n",
    "    language = 'python'  # will be used for\n",
    "                         # syntax highlighting\n",
    "    language_version = '3.6'\n",
    "    language_info = {'name': 'client_kernel',\n",
    "                     'mimetype': 'text/plain',\n",
    "                     'extension': '.py'}\n",
    "    banner = \"Simple client\""
   ]
  },
  {
   "cell_type": "code",
   "execution_count": 3,
   "id": "d59b030a",
   "metadata": {},
   "outputs": [
    {
     "name": "stdout",
     "output_type": "stream",
     "text": [
      "Appending to client_kernel.py\n"
     ]
    }
   ],
   "source": [
    "%%writefile client_kernel.py -a\n",
    "\n",
    "\n",
    "    def do_execute(self, code, silent,\n",
    "                   store_history=True,\n",
    "                   user_expressions=None,\n",
    "                   allow_stdin=False):\n",
    "\n",
    "        port= code.split('\\n')[0]\n",
    "        \n",
    "        s = socket.socket()         # Create a socket object\n",
    "        host = socket.gethostname() # Get local machine name\n",
    "        port = int(port)              # Reserve a port for your service.\n",
    "\n",
    "        s.connect((host, port))\n",
    "        \n",
    "        data = (s.recv(1024))\n",
    "        data = data.decode()\n",
    "        file1 = open(\"client_txt.txt\",\"w\")\n",
    "        file1.write(\"hello\")\n",
    "        file1.write(data)\n",
    "        file1.close()\n",
    "        result = \"FIle received successfully\"\n",
    "        s.close()    \n",
    "        \n",
    "        if not silent:\n",
    "            # We send the standard output to the\n",
    "            # client.\n",
    "            self.send_response(\n",
    "                self.iopub_socket,\n",
    "                'stream', {\n",
    "                    'name': 'stdout',\n",
    "                    'data': ('Plotting {n} ')})\n",
    "\n",
    "            # We prepare the response with our rich\n",
    "            # data (the plot).\n",
    "            content = {\n",
    "                'source': 'kernel',\n",
    "\n",
    "                # This dictionary may contain\n",
    "                # different MIME representations of\n",
    "                # the output.\n",
    "                'data': {\n",
    "                        'text/plain' : result\n",
    "                },\n",
    "\n",
    "                \n",
    "            }\n",
    "\n",
    "            # We send the display_data message with\n",
    "            # the contents.\n",
    "            self.send_response(self.iopub_socket,\n",
    "                'display_data', content)\n",
    "\n",
    "        # We return the exection results.\n",
    "        return {'status': 'ok',\n",
    "                'execution_count':\n",
    "                    self.execution_count,\n",
    "                'payload': [],\n",
    "                'user_expressions': {},\n",
    "               }"
   ]
  },
  {
   "cell_type": "code",
   "execution_count": 4,
   "id": "9e70b005",
   "metadata": {},
   "outputs": [
    {
     "name": "stdout",
     "output_type": "stream",
     "text": [
      "Appending to client_kernel.py\n"
     ]
    }
   ],
   "source": [
    "%%writefile client_kernel.py -a\n",
    "\n",
    "if __name__ == '__main__':\n",
    "    from ipykernel.kernelapp import IPKernelApp\n",
    "    IPKernelApp.launch_instance(\n",
    "        kernel_class=client_kernel)"
   ]
  },
  {
   "cell_type": "code",
   "execution_count": 5,
   "id": "60656124",
   "metadata": {},
   "outputs": [],
   "source": [
    "%mkdir -p client_kernel/"
   ]
  },
  {
   "cell_type": "code",
   "execution_count": 6,
   "id": "4ac40f4c",
   "metadata": {},
   "outputs": [
    {
     "name": "stdout",
     "output_type": "stream",
     "text": [
      "Overwriting client_kernel/kernel.json\n"
     ]
    }
   ],
   "source": [
    "\n",
    "%%writefile client_kernel/kernel.json\n",
    "{\n",
    " \"argv\": [\"python\", \"-m\",\n",
    "          \"client_kernel\", \"-f\",\n",
    "          \"{connection_file}\"],\n",
    " \"display_name\": \"ClientKernel\",\n",
    " \"name\": \"ClientKernel\",\n",
    " \"language\": \"python\"\n",
    "}"
   ]
  },
  {
   "cell_type": "code",
   "execution_count": 7,
   "id": "50359483",
   "metadata": {},
   "outputs": [
    {
     "name": "stdout",
     "output_type": "stream",
     "text": [
      "[InstallKernelSpec] Removing existing kernelspec in /Users/anshulkulhari/Library/Jupyter/kernels/client_kernel\r\n",
      "[InstallKernelSpec] Installed kernelspec client_kernel in /Users/anshulkulhari/Library/Jupyter/kernels/client_kernel\r\n"
     ]
    }
   ],
   "source": [
    "!jupyter kernelspec install --user client_kernel"
   ]
  },
  {
   "cell_type": "code",
   "execution_count": 8,
   "id": "925db22f",
   "metadata": {},
   "outputs": [
    {
     "name": "stdout",
     "output_type": "stream",
     "text": [
      "Available kernels:\n",
      "  python3          /usr/local/Cellar/jupyterlab/3.0.14/libexec/lib/python3.9/site-packages/ipykernel/resources\n",
      "  client_kernel    /Users/anshulkulhari/Library/Jupyter/kernels/client_kernel\n",
      "  githubkernel     /Users/anshulkulhari/Library/Jupyter/kernels/githubkernel\n",
      "  grammar          /Users/anshulkulhari/Library/Jupyter/kernels/grammar\n",
      "  plag_files       /Users/anshulkulhari/Library/Jupyter/kernels/plag_files\n",
      "  plotter          /Users/anshulkulhari/Library/Jupyter/kernels/plotter\n",
      "  server_kernel    /Users/anshulkulhari/Library/Jupyter/kernels/server_kernel\n"
     ]
    }
   ],
   "source": [
    "!jupyter kernelspec list"
   ]
  },
  {
   "cell_type": "code",
   "execution_count": null,
   "id": "5b850f33",
   "metadata": {},
   "outputs": [],
   "source": []
  },
  {
   "cell_type": "code",
   "execution_count": null,
   "id": "4e376b15",
   "metadata": {},
   "outputs": [],
   "source": []
  },
  {
   "cell_type": "code",
   "execution_count": null,
   "id": "8d9d746f",
   "metadata": {},
   "outputs": [],
   "source": []
  },
  {
   "cell_type": "code",
   "execution_count": null,
   "id": "f7ec406c",
   "metadata": {},
   "outputs": [],
   "source": []
  }
 ],
 "metadata": {
  "kernelspec": {
   "display_name": "Python 3",
   "language": "python",
   "name": "python3"
  },
  "language_info": {
   "codemirror_mode": {
    "name": "ipython",
    "version": 3
   },
   "file_extension": ".py",
   "mimetype": "text/x-python",
   "name": "python",
   "nbconvert_exporter": "python",
   "pygments_lexer": "ipython3",
   "version": "3.9.5"
  }
 },
 "nbformat": 4,
 "nbformat_minor": 5
}
