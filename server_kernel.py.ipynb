{
 "cells": [
  {
   "cell_type": "code",
   "execution_count": 45,
   "id": "32bf48de",
   "metadata": {},
   "outputs": [
    {
     "name": "stdout",
     "output_type": "stream",
     "text": [
      "Overwriting server_kernel.py\n"
     ]
    }
   ],
   "source": [
    "%%writefile server_kernel.py\n",
    "\n",
    "from ipykernel.kernelbase import Kernel\n",
    "import numpy as np\n",
    "import os\n",
    "import matplotlib.pyplot as plt\n",
    "from io import BytesIO\n",
    "import urllib, base64\n",
    "import socket"
   ]
  },
  {
   "cell_type": "code",
   "execution_count": 46,
   "id": "26ba8659",
   "metadata": {},
   "outputs": [
    {
     "name": "stdout",
     "output_type": "stream",
     "text": [
      "Appending to server_kernel.py\n"
     ]
    }
   ],
   "source": [
    "%%writefile server_kernel.py -a\n",
    "\n",
    "class server_kernel(Kernel):\n",
    "    implementation = 'server'\n",
    "    implementation_version = '1.0'\n",
    "    language = 'python'  # will be used for\n",
    "                         # syntax highlighting\n",
    "    language_version = '3.6'\n",
    "    language_info = {'name': 'server_kernel',\n",
    "                     'mimetype': 'text/plain',\n",
    "                     'extension': '.py'}\n",
    "    banner = \"Simple client\""
   ]
  },
  {
   "cell_type": "code",
   "execution_count": 47,
   "id": "9f9e0d19",
   "metadata": {},
   "outputs": [
    {
     "name": "stdout",
     "output_type": "stream",
     "text": [
      "Appending to server_kernel.py\n"
     ]
    }
   ],
   "source": [
    "%%writefile server_kernel.py -a\n",
    "\n",
    "    def do_execute(self, code, silent,\n",
    "                   store_history=True,\n",
    "                   user_expressions=None,\n",
    "                   allow_stdin=False):\n",
    "\n",
    "        port= code.split('\\n')[0]\n",
    "        file_name = code.split('\\n')[1]\n",
    "        \n",
    "        \n",
    "        s = socket.socket()         # Create a socket object\n",
    "        host = socket.gethostname() # Get local machine name\n",
    "        port = int(port)           # Reserve a port for your service.\n",
    "        s.bind((host, port))        # Bind to the port\n",
    "        \n",
    "        \n",
    "        s.listen(5)  \n",
    "        result=\"\"\n",
    "        # Now wait for client connection.\n",
    "        while True:\n",
    "            c, addr = s.accept()     # Establish connection with client.\n",
    "            result += str('Got connection from')+str(addr)\n",
    "            \n",
    "            file1 = open(file_name,\"r+\") \n",
    "            data=file1.read()\n",
    "            c.send(data.encode())\n",
    "            \n",
    "            c.close()   \n",
    "        \n",
    "        if not silent:\n",
    "            # We send the standard output to the\n",
    "            # client.\n",
    "            self.send_response(\n",
    "                self.iopub_socket,\n",
    "                'stream', {\n",
    "                    'name': 'stdout',\n",
    "                    'data': ('Plotting {n} ')})\n",
    "\n",
    "            # We prepare the response with our rich\n",
    "            # data (the plot).\n",
    "            content = {\n",
    "                'source': 'kernel',\n",
    "\n",
    "                # This dictionary may contain\n",
    "                # different MIME representations of\n",
    "                # the output.\n",
    "                'data': {\n",
    "                        'text/plain' : result\n",
    "                },\n",
    "\n",
    "                \n",
    "            }\n",
    "\n",
    "            # We send the display_data message with\n",
    "            # the contents.\n",
    "            self.send_response(self.iopub_socket,\n",
    "                'display_data', content)\n",
    "\n",
    "        # We return the exection results.\n",
    "        return {'status': 'ok',\n",
    "                'execution_count':\n",
    "                    self.execution_count,\n",
    "                'payload': [],\n",
    "                'user_expressions': {},\n",
    "               }"
   ]
  },
  {
   "cell_type": "code",
   "execution_count": 48,
   "id": "d4c8f6a7",
   "metadata": {},
   "outputs": [
    {
     "name": "stdout",
     "output_type": "stream",
     "text": [
      "Appending to server_kernel.py\n"
     ]
    }
   ],
   "source": [
    "%%writefile server_kernel.py -a\n",
    "\n",
    "if __name__ == '__main__':\n",
    "    from ipykernel.kernelapp import IPKernelApp\n",
    "    IPKernelApp.launch_instance(\n",
    "        kernel_class=server_kernel)"
   ]
  },
  {
   "cell_type": "code",
   "execution_count": 49,
   "id": "73118da5",
   "metadata": {},
   "outputs": [],
   "source": [
    "%mkdir -p server_kernel/"
   ]
  },
  {
   "cell_type": "code",
   "execution_count": 1,
   "id": "530f508b",
   "metadata": {},
   "outputs": [
    {
     "name": "stdout",
     "output_type": "stream",
     "text": [
      "Overwriting server_kernel/kernel.json\n"
     ]
    }
   ],
   "source": [
    "%%writefile server_kernel/kernel.json\n",
    "{\n",
    " \"argv\": [\"python\", \"-m\",\n",
    "          \"server_kernel\", \"-f\",\n",
    "          \"{connection_file}\"],\n",
    " \"display_name\": \"ServerKernel\",\n",
    " \"name\": \"ServerKernel\",\n",
    " \"language\": \"python\"\n",
    "}"
   ]
  },
  {
   "cell_type": "code",
   "execution_count": 2,
   "id": "128b78bc",
   "metadata": {},
   "outputs": [
    {
     "name": "stdout",
     "output_type": "stream",
     "text": [
      "[InstallKernelSpec] Removing existing kernelspec in /Users/anshulkulhari/Library/Jupyter/kernels/server_kernel\r\n",
      "[InstallKernelSpec] Installed kernelspec server_kernel in /Users/anshulkulhari/Library/Jupyter/kernels/server_kernel\r\n"
     ]
    }
   ],
   "source": [
    "!jupyter kernelspec install --user server_kernel"
   ]
  },
  {
   "cell_type": "code",
   "execution_count": 3,
   "id": "9ef2d907",
   "metadata": {},
   "outputs": [
    {
     "name": "stdout",
     "output_type": "stream",
     "text": [
      "Available kernels:\r\n",
      "  python3          /usr/local/Cellar/jupyterlab/3.0.14/libexec/lib/python3.9/site-packages/ipykernel/resources\r\n",
      "  client_kernel    /Users/anshulkulhari/Library/Jupyter/kernels/client_kernel\r\n",
      "  githubkernel     /Users/anshulkulhari/Library/Jupyter/kernels/githubkernel\r\n",
      "  grammar          /Users/anshulkulhari/Library/Jupyter/kernels/grammar\r\n",
      "  plag_files       /Users/anshulkulhari/Library/Jupyter/kernels/plag_files\r\n",
      "  plotter          /Users/anshulkulhari/Library/Jupyter/kernels/plotter\r\n",
      "  server_kernel    /Users/anshulkulhari/Library/Jupyter/kernels/server_kernel\r\n"
     ]
    }
   ],
   "source": [
    "!jupyter kernelspec list"
   ]
  },
  {
   "cell_type": "code",
   "execution_count": null,
   "id": "abaee905",
   "metadata": {},
   "outputs": [],
   "source": []
  },
  {
   "cell_type": "code",
   "execution_count": null,
   "id": "192d0df9",
   "metadata": {},
   "outputs": [],
   "source": []
  },
  {
   "cell_type": "code",
   "execution_count": null,
   "id": "e2b2da1a",
   "metadata": {},
   "outputs": [],
   "source": []
  },
  {
   "cell_type": "code",
   "execution_count": null,
   "id": "adcc093f",
   "metadata": {},
   "outputs": [],
   "source": []
  }
 ],
 "metadata": {
  "kernelspec": {
   "display_name": "Python 3",
   "language": "python",
   "name": "python3"
  },
  "language_info": {
   "codemirror_mode": {
    "name": "ipython",
    "version": 3
   },
   "file_extension": ".py",
   "mimetype": "text/x-python",
   "name": "python",
   "nbconvert_exporter": "python",
   "pygments_lexer": "ipython3",
   "version": "3.9.5"
  }
 },
 "nbformat": 4,
 "nbformat_minor": 5
}
