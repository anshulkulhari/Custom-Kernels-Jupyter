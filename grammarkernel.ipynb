{
 "cells": [
  {
   "cell_type": "code",
   "execution_count": 128,
   "id": "c848cd05",
   "metadata": {},
   "outputs": [
    {
     "name": "stdout",
     "output_type": "stream",
     "text": [
      "Overwriting grammarkernel.py\n"
     ]
    }
   ],
   "source": [
    "%%writefile grammarkernel.py\n",
    "\n",
    "from ipykernel.kernelbase import Kernel\n",
    "from gingerit.gingerit import GingerIt\n",
    "from io import BytesIO\n",
    "import urllib, base64"
   ]
  },
  {
   "cell_type": "code",
   "execution_count": 129,
   "id": "8b74b8b9",
   "metadata": {},
   "outputs": [
    {
     "name": "stdout",
     "output_type": "stream",
     "text": [
      "Appending to grammarkernel.py\n"
     ]
    }
   ],
   "source": [
    "%%writefile grammarkernel.py -a\n",
    "import string\n",
    "import sys\n",
    "\n",
    "# reading the text file\n",
    "# This functio will return a\n",
    "# list of the lines of text\n",
    "# in the file.\n",
    "def read_file(filename):\n",
    "\n",
    "    try:\n",
    "        with open(filename, 'r') as f:\n",
    "            data = f.read()\n",
    "        return data\n",
    "\n",
    "    except IOError:\n",
    "        print(\"Error opening or reading input file: \", filename)\n",
    "        sys.exit()"
   ]
  },
  {
   "cell_type": "code",
   "execution_count": 130,
   "id": "04a6ce30",
   "metadata": {},
   "outputs": [
    {
     "name": "stdout",
     "output_type": "stream",
     "text": [
      "Appending to grammarkernel.py\n"
     ]
    }
   ],
   "source": [
    "%%writefile grammarkernel.py -a\n",
    "\n",
    "class grammarKernel(Kernel):\n",
    "    implementation = 'Grammar'\n",
    "    implementation_version = '1.0'\n",
    "    language = 'python'  # will be used for\n",
    "                         # syntax highlighting\n",
    "    language_version = '3.6'\n",
    "    language_info = {'name': 'grammar',\n",
    "                     'mimetype': 'text/plain',\n",
    "                     'extension': '.py'}\n",
    "    banner = \"Simple Grammar Check\""
   ]
  },
  {
   "cell_type": "code",
   "execution_count": 131,
   "id": "c3b9f3ab",
   "metadata": {},
   "outputs": [
    {
     "name": "stdout",
     "output_type": "stream",
     "text": [
      "Appending to grammarkernel.py\n"
     ]
    }
   ],
   "source": [
    "%%writefile grammarkernel.py -a\n",
    "\n",
    "    def do_execute(self, code, silent,\n",
    "                   store_history=True,\n",
    "                   user_expressions=None,\n",
    "                   allow_stdin=False):\n",
    "        file_path= code.split(\"\\n\")[0];\n",
    "        file_Data=read_file(file_path);\n",
    "\n",
    "        parser = GingerIt()\n",
    "        fileData='The output file has been created with the name correctGrammar.txt.';\n",
    "        with open('correctGrammar.txt', 'w') as f:\n",
    "            f.write(parser.parse(file_Data)['result'])\n",
    "        \n",
    "        \n",
    "        \n",
    "    \n",
    "        if not silent:\n",
    "            # We send the standard output to the\n",
    "            # client.\n",
    "            self.send_response(\n",
    "                self.iopub_socket,\n",
    "                'stream', {\n",
    "                    'name': 'stdout',\n",
    "                    'data': ('Correcting grammmar in file')})\n",
    "\n",
    "            # We prepare the response with our rich\n",
    "            # data (the plot).\n",
    "            content = {\n",
    "                'source': 'kernel',\n",
    "\n",
    "                # This dictionary may contain\n",
    "                # different MIME representations of\n",
    "                # the output.\n",
    "                'data': {\n",
    "                    'text/plain': fileData\n",
    "                },\n",
    "\n",
    "                # We can specify the image size\n",
    "                # in the metadata field.\n",
    "               \n",
    "            }\n",
    "\n",
    "            # We send the display_data message with\n",
    "            # the contents.\n",
    "            self.send_response(self.iopub_socket,\n",
    "                'display_data', content)\n",
    "\n",
    "        # We return the exection results.\n",
    "        return {'status': 'ok',\n",
    "                'execution_count':\n",
    "                    self.execution_count,\n",
    "                'payload': [],\n",
    "                'user_expressions': {},\n",
    "               }"
   ]
  },
  {
   "cell_type": "code",
   "execution_count": 132,
   "id": "d34c5034",
   "metadata": {},
   "outputs": [
    {
     "name": "stdout",
     "output_type": "stream",
     "text": [
      "Appending to grammarkernel.py\n"
     ]
    }
   ],
   "source": [
    "%%writefile grammarkernel.py -a\n",
    "\n",
    "if __name__ == '__main__':\n",
    "    from ipykernel.kernelapp import IPKernelApp\n",
    "    IPKernelApp.launch_instance(\n",
    "        kernel_class=grammarKernel)"
   ]
  },
  {
   "cell_type": "code",
   "execution_count": 133,
   "id": "132641a9",
   "metadata": {},
   "outputs": [],
   "source": [
    "%mkdir -p grammar/"
   ]
  },
  {
   "cell_type": "code",
   "execution_count": 134,
   "id": "5b32b554",
   "metadata": {},
   "outputs": [
    {
     "name": "stdout",
     "output_type": "stream",
     "text": [
      "Overwriting grammar/kernel.json\n"
     ]
    }
   ],
   "source": [
    "%%writefile grammar/kernel.json\n",
    "{\n",
    " \"argv\": [\"python\", \"-m\",\n",
    "          \"grammarkernel\", \"-f\",\n",
    "          \"{connection_file}\"],\n",
    " \"display_name\": \"Grammar\",\n",
    " \"name\": \"Grammar\",\n",
    " \"language\": \"python\"\n",
    "}"
   ]
  },
  {
   "cell_type": "code",
   "execution_count": 135,
   "id": "b2cc586e",
   "metadata": {},
   "outputs": [
    {
     "name": "stdout",
     "output_type": "stream",
     "text": [
      "[InstallKernelSpec] Removing existing kernelspec in /Users/anshulkulhari/Library/Jupyter/kernels/grammar\r\n",
      "[InstallKernelSpec] Installed kernelspec grammar in /Users/anshulkulhari/Library/Jupyter/kernels/grammar\r\n"
     ]
    }
   ],
   "source": [
    "!jupyter kernelspec install --user grammar"
   ]
  },
  {
   "cell_type": "code",
   "execution_count": 136,
   "id": "e3351f39",
   "metadata": {},
   "outputs": [
    {
     "name": "stdout",
     "output_type": "stream",
     "text": [
      "Available kernels:\r\n",
      "  python3          /usr/local/Cellar/jupyterlab/3.0.14/libexec/lib/python3.9/site-packages/ipykernel/resources\r\n",
      "  client_kernel    /Users/anshulkulhari/Library/Jupyter/kernels/client_kernel\r\n",
      "  grammar          /Users/anshulkulhari/Library/Jupyter/kernels/grammar\r\n",
      "  plag_files       /Users/anshulkulhari/Library/Jupyter/kernels/plag_files\r\n",
      "  plotter          /Users/anshulkulhari/Library/Jupyter/kernels/plotter\r\n",
      "  server_kernel    /Users/anshulkulhari/Library/Jupyter/kernels/server_kernel\r\n"
     ]
    }
   ],
   "source": [
    "!jupyter kernelspec list"
   ]
  },
  {
   "cell_type": "code",
   "execution_count": null,
   "id": "321d1616",
   "metadata": {},
   "outputs": [],
   "source": []
  },
  {
   "cell_type": "code",
   "execution_count": null,
   "id": "659866d8",
   "metadata": {},
   "outputs": [],
   "source": []
  }
 ],
 "metadata": {
  "kernelspec": {
   "display_name": "Python 3",
   "language": "python",
   "name": "python3"
  },
  "language_info": {
   "codemirror_mode": {
    "name": "ipython",
    "version": 3
   },
   "file_extension": ".py",
   "mimetype": "text/x-python",
   "name": "python",
   "nbconvert_exporter": "python",
   "pygments_lexer": "ipython3",
   "version": "3.9.5"
  }
 },
 "nbformat": 4,
 "nbformat_minor": 5
}
