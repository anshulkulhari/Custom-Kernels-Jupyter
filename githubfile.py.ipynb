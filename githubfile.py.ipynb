{
 "cells": [
  {
   "cell_type": "code",
   "execution_count": 21,
   "id": "b830e4c0",
   "metadata": {},
   "outputs": [
    {
     "name": "stdout",
     "output_type": "stream",
     "text": [
      "Overwriting github.py\n"
     ]
    }
   ],
   "source": [
    "%%writefile github.py\n",
    "\n",
    "from ipykernel.kernelbase import Kernel\n",
    "import numpy as np\n",
    "import matplotlib.pyplot as plt\n",
    "from io import BytesIO\n",
    "from PyGithub.github.MainClass import Github\n",
    "import urllib, base64"
   ]
  },
  {
   "cell_type": "code",
   "execution_count": 22,
   "id": "e1c7de02",
   "metadata": {},
   "outputs": [
    {
     "name": "stdout",
     "output_type": "stream",
     "text": [
      "Appending to github.py\n"
     ]
    }
   ],
   "source": [
    "%%writefile github.py -a\n",
    " \n",
    "def _to_png(fig):\n",
    "    \"\"\"Return a base64-encoded PNG from a\n",
    "    matplotlib figure.\"\"\"\n",
    "    imgdata = BytesIO()\n",
    "    fig.savefig(imgdata, format='png')\n",
    "    imgdata.seek(0)\n",
    "    return urllib.parse.quote(\n",
    "        base64.b64encode(imgdata.getvalue()))"
   ]
  },
  {
   "cell_type": "code",
   "execution_count": 23,
   "id": "25341d37",
   "metadata": {},
   "outputs": [
    {
     "name": "stdout",
     "output_type": "stream",
     "text": [
      "Appending to github.py\n"
     ]
    }
   ],
   "source": [
    "%%writefile github.py -a\n",
    "\n",
    "_numpy_namespace = {n: getattr(np, n)\n",
    "                    for n in dir(np)}\n",
    "\n",
    "def _parse_function(code):\n",
    "    \"\"\"Return a NumPy function from a\n",
    "    string 'y=f(x)'.\"\"\"\n",
    "    return lambda x: eval(code.split('=')[1].strip(),\n",
    "                          _numpy_namespace, {'x': x})"
   ]
  },
  {
   "cell_type": "code",
   "execution_count": 24,
   "id": "674d9fed",
   "metadata": {},
   "outputs": [
    {
     "name": "stdout",
     "output_type": "stream",
     "text": [
      "Appending to github.py\n"
     ]
    }
   ],
   "source": [
    "%%writefile github.py -a\n",
    "\n",
    "\n",
    "def get_repos():\n",
    "    # Then play with your Github objects:\n",
    "    repo_list = \"\"\n",
    "    for repo in g.get_user().get_repos():\n",
    "        repo_list +=repo.name +\"\\n\"\n",
    "    return repo_list\n",
    "\n",
    "\n",
    "class github(Kernel):\n",
    "    implementation = 'Github'\n",
    "    implementation_version = '1.0'\n",
    "    language = 'python'  # will be used for\n",
    "                         # syntax highlighting\n",
    "    language_version = '3.6'\n",
    "    language_info = {'name': 'github',\n",
    "                     'mimetype': 'text/plain',\n",
    "                     'extension': '.py'}\n",
    "    banner = \"Simple github\""
   ]
  },
  {
   "cell_type": "code",
   "execution_count": 25,
   "id": "4ab2dea6",
   "metadata": {},
   "outputs": [
    {
     "name": "stdout",
     "output_type": "stream",
     "text": [
      "Appending to github.py\n"
     ]
    }
   ],
   "source": [
    "%%writefile github.py -a\n",
    "\n",
    "    def do_execute(self, code, silent,\n",
    "                   store_history=True,\n",
    "                   user_expressions=None,\n",
    "                   allow_stdin=False):\n",
    "\n",
    "        \n",
    "        lines= code.split('\\n')\n",
    "        token = lines[0]\n",
    "        g=Github(token)\n",
    "        \n",
    "        user = g.get_user()\n",
    "        \n",
    "        function = line[1].split(':')\n",
    "        function_name = function[0]\n",
    "        result=\"\"\n",
    "        if function_name==\"get_user_repos\":\n",
    "            result=get_repos()\n",
    "        \n",
    "        if not silent:\n",
    "            # We send the standard output to the\n",
    "            # client.\n",
    "            self.send_response(\n",
    "                self.iopub_socket,\n",
    "                'stream', {\n",
    "                    'name': 'stdout',\n",
    "                    'data': ('Plotting {n} '\n",
    "                             'function(s)'). \\\n",
    "                            format(n=len(functions))})\n",
    "\n",
    "            # We prepare the response with our rich\n",
    "            # data (the plot).\n",
    "            content = {\n",
    "                'source': 'kernel',\n",
    "\n",
    "                # This dictionary may contain\n",
    "                # different MIME representations of\n",
    "                # the output.\n",
    "                'data': {\n",
    "                    'text/plain': result\n",
    "                },\n",
    "\n",
    "            }\n",
    "\n",
    "            # We send the display_data message with\n",
    "            # the contents.\n",
    "            self.send_response(self.iopub_socket,\n",
    "                'display_data', content)\n",
    "\n",
    "        # We return the exection results.\n",
    "        return {'status': 'ok',\n",
    "                'execution_count':\n",
    "                    self.execution_count,\n",
    "                'payload': [],\n",
    "                'user_expressions': {},\n",
    "               }\n",
    "\n"
   ]
  },
  {
   "cell_type": "code",
   "execution_count": 26,
   "id": "673f7382",
   "metadata": {},
   "outputs": [
    {
     "name": "stdout",
     "output_type": "stream",
     "text": [
      "Appending to github.py\n"
     ]
    }
   ],
   "source": [
    "%%writefile github.py -a\n",
    "\n",
    "if __name__ == '__main__':\n",
    "    from ipykernel.kernelapp import IPKernelApp\n",
    "    IPKernelApp.launch_instance(\n",
    "        kernel_class=github)"
   ]
  },
  {
   "cell_type": "code",
   "execution_count": 27,
   "id": "07e8b002",
   "metadata": {},
   "outputs": [],
   "source": [
    "%mkdir -p GitHubKernel/"
   ]
  },
  {
   "cell_type": "code",
   "execution_count": 28,
   "id": "e3962b6e",
   "metadata": {},
   "outputs": [
    {
     "name": "stdout",
     "output_type": "stream",
     "text": [
      "Overwriting GitHubKernel/kernel.json\n"
     ]
    }
   ],
   "source": [
    "%%writefile GitHubKernel/kernel.json\n",
    "{\n",
    " \"argv\": [\"python\", \"-m\",\n",
    "          \"github\", \"-f\",\n",
    "          \"{connection_file}\"],\n",
    " \"display_name\": \"GithubKernel\",\n",
    " \"name\": \"GithubKernel\",\n",
    " \"language\": \"python\"\n",
    "}"
   ]
  },
  {
   "cell_type": "code",
   "execution_count": 29,
   "id": "be198067",
   "metadata": {},
   "outputs": [
    {
     "name": "stdout",
     "output_type": "stream",
     "text": [
      "[InstallKernelSpec] Removing existing kernelspec in /Users/anshulkulhari/Library/Jupyter/kernels/githubkernel\r\n",
      "[InstallKernelSpec] Installed kernelspec githubkernel in /Users/anshulkulhari/Library/Jupyter/kernels/githubkernel\r\n"
     ]
    }
   ],
   "source": [
    "!jupyter kernelspec install --user GitHubKernel"
   ]
  },
  {
   "cell_type": "code",
   "execution_count": 30,
   "id": "8be49fb3",
   "metadata": {},
   "outputs": [
    {
     "name": "stdout",
     "output_type": "stream",
     "text": [
      "Available kernels:\r\n",
      "  python3          /usr/local/Cellar/jupyterlab/3.0.14/libexec/lib/python3.9/site-packages/ipykernel/resources\r\n",
      "  client_kernel    /Users/anshulkulhari/Library/Jupyter/kernels/client_kernel\r\n",
      "  githubkernel     /Users/anshulkulhari/Library/Jupyter/kernels/githubkernel\r\n",
      "  grammar          /Users/anshulkulhari/Library/Jupyter/kernels/grammar\r\n",
      "  plag_files       /Users/anshulkulhari/Library/Jupyter/kernels/plag_files\r\n",
      "  plotter          /Users/anshulkulhari/Library/Jupyter/kernels/plotter\r\n",
      "  server_kernel    /Users/anshulkulhari/Library/Jupyter/kernels/server_kernel\r\n"
     ]
    }
   ],
   "source": [
    "!jupyter kernelspec list"
   ]
  },
  {
   "cell_type": "code",
   "execution_count": null,
   "id": "09556d66",
   "metadata": {},
   "outputs": [],
   "source": []
  },
  {
   "cell_type": "code",
   "execution_count": null,
   "id": "f449759a",
   "metadata": {},
   "outputs": [],
   "source": []
  }
 ],
 "metadata": {
  "kernelspec": {
   "display_name": "Python 3",
   "language": "python",
   "name": "python3"
  },
  "language_info": {
   "codemirror_mode": {
    "name": "ipython",
    "version": 3
   },
   "file_extension": ".py",
   "mimetype": "text/x-python",
   "name": "python",
   "nbconvert_exporter": "python",
   "pygments_lexer": "ipython3",
   "version": "3.9.5"
  }
 },
 "nbformat": 4,
 "nbformat_minor": 5
}
